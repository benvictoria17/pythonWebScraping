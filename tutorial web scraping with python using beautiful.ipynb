{
 "cells": [
  {
   "cell_type": "code",
   "execution_count": 1,
   "id": "c0556139",
   "metadata": {
    "execution": {
     "iopub.execute_input": "2022-01-16T06:02:00.097154Z",
     "iopub.status.busy": "2022-01-16T06:02:00.096465Z",
     "iopub.status.idle": "2022-01-16T06:02:00.630087Z",
     "shell.execute_reply": "2022-01-16T06:02:00.630628Z",
     "shell.execute_reply.started": "2022-01-16T05:58:13.918479Z"
    },
    "papermill": {
     "duration": 0.555918,
     "end_time": "2022-01-16T06:02:00.630935",
     "exception": false,
     "start_time": "2022-01-16T06:02:00.075017",
     "status": "completed"
    },
    "tags": []
   },
   "outputs": [
    {
     "data": {
      "text/plain": [
       "<Response [200]>"
      ]
     },
     "execution_count": 1,
     "metadata": {},
     "output_type": "execute_result"
    }
   ],
   "source": [
    "import requests\n",
    "page = requests.get(\"https://dataquestio.github.io/web-scraping-pages/simple.html\")\n",
    "page"
   ]
  },
  {
   "cell_type": "code",
   "execution_count": 2,
   "id": "b66040b6",
   "metadata": {
    "execution": {
     "iopub.execute_input": "2022-01-16T06:02:00.656821Z",
     "iopub.status.busy": "2022-01-16T06:02:00.655826Z",
     "iopub.status.idle": "2022-01-16T06:02:00.661202Z",
     "shell.execute_reply": "2022-01-16T06:02:00.661798Z",
     "shell.execute_reply.started": "2022-01-16T05:58:21.474225Z"
    },
    "papermill": {
     "duration": 0.019747,
     "end_time": "2022-01-16T06:02:00.661967",
     "exception": false,
     "start_time": "2022-01-16T06:02:00.642220",
     "status": "completed"
    },
    "tags": []
   },
   "outputs": [
    {
     "data": {
      "text/plain": [
       "200"
      ]
     },
     "execution_count": 2,
     "metadata": {},
     "output_type": "execute_result"
    }
   ],
   "source": [
    "page.status_code"
   ]
  },
  {
   "cell_type": "code",
   "execution_count": 3,
   "id": "65ea35cf",
   "metadata": {
    "execution": {
     "iopub.execute_input": "2022-01-16T06:02:00.688319Z",
     "iopub.status.busy": "2022-01-16T06:02:00.687260Z",
     "iopub.status.idle": "2022-01-16T06:02:00.692943Z",
     "shell.execute_reply": "2022-01-16T06:02:00.693564Z",
     "shell.execute_reply.started": "2022-01-16T05:58:32.334786Z"
    },
    "papermill": {
     "duration": 0.021097,
     "end_time": "2022-01-16T06:02:00.693732",
     "exception": false,
     "start_time": "2022-01-16T06:02:00.672635",
     "status": "completed"
    },
    "tags": []
   },
   "outputs": [
    {
     "data": {
      "text/plain": [
       "b'<!DOCTYPE html>\\n<html>\\n    <head>\\n        <title>A simple example page</title>\\n    </head>\\n    <body>\\n        <p>Here is some simple content for this page.</p>\\n    </body>\\n</html>'"
      ]
     },
     "execution_count": 3,
     "metadata": {},
     "output_type": "execute_result"
    }
   ],
   "source": [
    "page.content"
   ]
  },
  {
   "cell_type": "code",
   "execution_count": 4,
   "id": "4ae768ba",
   "metadata": {
    "execution": {
     "iopub.execute_input": "2022-01-16T06:02:00.720175Z",
     "iopub.status.busy": "2022-01-16T06:02:00.719180Z",
     "iopub.status.idle": "2022-01-16T06:02:00.935970Z",
     "shell.execute_reply": "2022-01-16T06:02:00.935385Z",
     "shell.execute_reply.started": "2022-01-16T05:58:48.344693Z"
    },
    "papermill": {
     "duration": 0.231169,
     "end_time": "2022-01-16T06:02:00.936127",
     "exception": false,
     "start_time": "2022-01-16T06:02:00.704958",
     "status": "completed"
    },
    "tags": []
   },
   "outputs": [],
   "source": [
    "from bs4 import BeautifulSoup\n",
    "soup = BeautifulSoup(page.content, 'html.parser')"
   ]
  },
  {
   "cell_type": "code",
   "execution_count": 5,
   "id": "e24fa4ef",
   "metadata": {
    "execution": {
     "iopub.execute_input": "2022-01-16T06:02:00.964358Z",
     "iopub.status.busy": "2022-01-16T06:02:00.963681Z",
     "iopub.status.idle": "2022-01-16T06:02:00.966740Z",
     "shell.execute_reply": "2022-01-16T06:02:00.967418Z",
     "shell.execute_reply.started": "2022-01-16T05:58:54.601789Z"
    },
    "papermill": {
     "duration": 0.020423,
     "end_time": "2022-01-16T06:02:00.967671",
     "exception": false,
     "start_time": "2022-01-16T06:02:00.947248",
     "status": "completed"
    },
    "tags": []
   },
   "outputs": [
    {
     "name": "stdout",
     "output_type": "stream",
     "text": [
      "<!DOCTYPE html>\n",
      "<html>\n",
      " <head>\n",
      "  <title>\n",
      "   A simple example page\n",
      "  </title>\n",
      " </head>\n",
      " <body>\n",
      "  <p>\n",
      "   Here is some simple content for this page.\n",
      "  </p>\n",
      " </body>\n",
      "</html>\n"
     ]
    }
   ],
   "source": [
    "print(soup.prettify())"
   ]
  },
  {
   "cell_type": "code",
   "execution_count": 6,
   "id": "01d1e6ad",
   "metadata": {
    "execution": {
     "iopub.execute_input": "2022-01-16T06:02:00.999188Z",
     "iopub.status.busy": "2022-01-16T06:02:00.998206Z",
     "iopub.status.idle": "2022-01-16T06:02:01.002554Z",
     "shell.execute_reply": "2022-01-16T06:02:01.001994Z",
     "shell.execute_reply.started": "2022-01-16T05:59:01.356858Z"
    },
    "papermill": {
     "duration": 0.0225,
     "end_time": "2022-01-16T06:02:01.002703",
     "exception": false,
     "start_time": "2022-01-16T06:02:00.980203",
     "status": "completed"
    },
    "tags": []
   },
   "outputs": [
    {
     "data": {
      "text/plain": [
       "['html',\n",
       " '\\n',\n",
       " <html>\n",
       " <head>\n",
       " <title>A simple example page</title>\n",
       " </head>\n",
       " <body>\n",
       " <p>Here is some simple content for this page.</p>\n",
       " </body>\n",
       " </html>]"
      ]
     },
     "execution_count": 6,
     "metadata": {},
     "output_type": "execute_result"
    }
   ],
   "source": [
    "list(soup.children)"
   ]
  },
  {
   "cell_type": "code",
   "execution_count": 7,
   "id": "5be31981",
   "metadata": {
    "execution": {
     "iopub.execute_input": "2022-01-16T06:02:01.034391Z",
     "iopub.status.busy": "2022-01-16T06:02:01.033466Z",
     "iopub.status.idle": "2022-01-16T06:02:01.037104Z",
     "shell.execute_reply": "2022-01-16T06:02:01.037619Z",
     "shell.execute_reply.started": "2022-01-16T05:59:10.578781Z"
    },
    "papermill": {
     "duration": 0.023008,
     "end_time": "2022-01-16T06:02:01.037793",
     "exception": false,
     "start_time": "2022-01-16T06:02:01.014785",
     "status": "completed"
    },
    "tags": []
   },
   "outputs": [
    {
     "data": {
      "text/plain": [
       "['html',\n",
       " '\\n',\n",
       " <html>\n",
       " <head>\n",
       " <title>A simple example page</title>\n",
       " </head>\n",
       " <body>\n",
       " <p>Here is some simple content for this page.</p>\n",
       " </body>\n",
       " </html>]"
      ]
     },
     "execution_count": 7,
     "metadata": {},
     "output_type": "execute_result"
    }
   ],
   "source": [
    "list(soup.children)"
   ]
  },
  {
   "cell_type": "code",
   "execution_count": 8,
   "id": "90f62f8d",
   "metadata": {
    "execution": {
     "iopub.execute_input": "2022-01-16T06:02:01.071326Z",
     "iopub.status.busy": "2022-01-16T06:02:01.065928Z",
     "iopub.status.idle": "2022-01-16T06:02:01.987168Z",
     "shell.execute_reply": "2022-01-16T06:02:01.985778Z",
     "shell.execute_reply.started": "2022-01-16T05:59:59.100170Z"
    },
    "papermill": {
     "duration": 0.93645,
     "end_time": "2022-01-16T06:02:01.987343",
     "exception": false,
     "start_time": "2022-01-16T06:02:01.050893",
     "status": "completed"
    },
    "tags": []
   },
   "outputs": [
    {
     "name": "stdout",
     "output_type": "stream",
     "text": [
      "<div class=\"tombstone-container\">\n",
      " <p class=\"period-name\">\n",
      "  Tonight\n",
      "  <br/>\n",
      "  <br/>\n",
      " </p>\n",
      " <p>\n",
      "  <img alt=\"Tonight: Mostly cloudy, with a low around 49. North wind around 7 mph. \" class=\"forecast-icon\" src=\"newimages/medium/nbkn.png\" title=\"Tonight: Mostly cloudy, with a low around 49. North wind around 7 mph. \"/>\n",
      " </p>\n",
      " <p class=\"short-desc\">\n",
      "  Mostly Cloudy\n",
      " </p>\n",
      " <p class=\"temp temp-low\">\n",
      "  Low: 49 °F\n",
      " </p>\n",
      "</div>\n"
     ]
    }
   ],
   "source": [
    "page = requests.get(\"https://forecast.weather.gov/MapClick.php?lat=37.7772&lon=-122.4168\")\n",
    "soup = BeautifulSoup(page.content, 'html.parser')\n",
    "seven_day = soup.find(id=\"seven-day-forecast\")\n",
    "forecast_items = seven_day.find_all(class_=\"tombstone-container\")\n",
    "tonight = forecast_items[0]\n",
    "print(tonight.prettify())"
   ]
  },
  {
   "cell_type": "code",
   "execution_count": 9,
   "id": "c1430d55",
   "metadata": {
    "execution": {
     "iopub.execute_input": "2022-01-16T06:02:02.021145Z",
     "iopub.status.busy": "2022-01-16T06:02:02.020324Z",
     "iopub.status.idle": "2022-01-16T06:02:02.024788Z",
     "shell.execute_reply": "2022-01-16T06:02:02.023905Z",
     "shell.execute_reply.started": "2022-01-16T06:00:10.673725Z"
    },
    "papermill": {
     "duration": 0.024666,
     "end_time": "2022-01-16T06:02:02.024981",
     "exception": false,
     "start_time": "2022-01-16T06:02:02.000315",
     "status": "completed"
    },
    "tags": []
   },
   "outputs": [
    {
     "name": "stdout",
     "output_type": "stream",
     "text": [
      "Tonight\n",
      "Mostly Cloudy\n",
      "Low: 49 °F\n"
     ]
    }
   ],
   "source": [
    "period = tonight.find(class_=\"period-name\").get_text()\n",
    "short_desc = tonight.find(class_=\"short-desc\").get_text()\n",
    "temp = tonight.find(class_=\"temp\").get_text()\n",
    "print(period)\n",
    "print(short_desc)\n",
    "print(temp)"
   ]
  },
  {
   "cell_type": "code",
   "execution_count": 10,
   "id": "c5f2ce21",
   "metadata": {
    "execution": {
     "iopub.execute_input": "2022-01-16T06:02:02.057556Z",
     "iopub.status.busy": "2022-01-16T06:02:02.056864Z",
     "iopub.status.idle": "2022-01-16T06:02:02.060345Z",
     "shell.execute_reply": "2022-01-16T06:02:02.059727Z",
     "shell.execute_reply.started": "2022-01-16T06:00:21.243282Z"
    },
    "papermill": {
     "duration": 0.021232,
     "end_time": "2022-01-16T06:02:02.060523",
     "exception": false,
     "start_time": "2022-01-16T06:02:02.039291",
     "status": "completed"
    },
    "tags": []
   },
   "outputs": [
    {
     "name": "stdout",
     "output_type": "stream",
     "text": [
      "Tonight: Mostly cloudy, with a low around 49. North wind around 7 mph. \n"
     ]
    }
   ],
   "source": [
    "img = tonight.find(\"img\")\n",
    "desc = img['title']\n",
    "print(desc)"
   ]
  },
  {
   "cell_type": "code",
   "execution_count": 11,
   "id": "f8a6b943",
   "metadata": {
    "execution": {
     "iopub.execute_input": "2022-01-16T06:02:02.096734Z",
     "iopub.status.busy": "2022-01-16T06:02:02.096017Z",
     "iopub.status.idle": "2022-01-16T06:02:02.098755Z",
     "shell.execute_reply": "2022-01-16T06:02:02.099237Z",
     "shell.execute_reply.started": "2022-01-16T06:00:30.115470Z"
    },
    "papermill": {
     "duration": 0.024994,
     "end_time": "2022-01-16T06:02:02.099409",
     "exception": false,
     "start_time": "2022-01-16T06:02:02.074415",
     "status": "completed"
    },
    "tags": []
   },
   "outputs": [
    {
     "data": {
      "text/plain": [
       "['Tonight',\n",
       " 'Sunday',\n",
       " 'SundayNight',\n",
       " 'M.L.KingDay',\n",
       " 'MondayNight',\n",
       " 'Tuesday',\n",
       " 'TuesdayNight',\n",
       " 'Wednesday',\n",
       " 'WednesdayNight']"
      ]
     },
     "execution_count": 11,
     "metadata": {},
     "output_type": "execute_result"
    }
   ],
   "source": [
    "period_tags = seven_day.select(\".tombstone-container .period-name\")\n",
    "periods = [pt.get_text() for pt in period_tags]\n",
    "periods"
   ]
  }
 ],
 "metadata": {
  "kernelspec": {
   "display_name": "Python 3",
   "language": "python",
   "name": "python3"
  },
  "language_info": {
   "codemirror_mode": {
    "name": "ipython",
    "version": 3
   },
   "file_extension": ".py",
   "mimetype": "text/x-python",
   "name": "python",
   "nbconvert_exporter": "python",
   "pygments_lexer": "ipython3",
   "version": "3.7.12"
  },
  "papermill": {
   "default_parameters": {},
   "duration": 12.760994,
   "end_time": "2022-01-16T06:02:02.722708",
   "environment_variables": {},
   "exception": null,
   "input_path": "__notebook__.ipynb",
   "output_path": "__notebook__.ipynb",
   "parameters": {},
   "start_time": "2022-01-16T06:01:49.961714",
   "version": "2.3.3"
  }
 },
 "nbformat": 4,
 "nbformat_minor": 5
}
