{
 "cells": [
  {
   "cell_type": "code",
   "execution_count": 0,
   "metadata": {
    "colab": {
     "base_uri": "https://localhost:8080/",
     "height": 158
    },
    "colab_type": "code",
    "executionInfo": {
     "elapsed": 1617,
     "status": "ok",
     "timestamp": 1587702884139,
     "user": {
      "displayName": "ben Victoria",
      "photoUrl": "https://lh3.googleusercontent.com/a-/AOh14Gjaljbdiqe1vN80WAMaZEdV02KZcRvkOAH753yXhQ=s64",
      "userId": "14869617588384360506"
     },
     "user_tz": 420
    },
    "id": "QbY0ZJokdQNB",
    "outputId": "40c1dd2b-d748-4d6e-efd4-f6ddc2ffff59"
   },
   "outputs": [
    {
     "name": "stdout",
     "output_type": "stream",
     "text": [
      "200\n",
      "{'Date': 'Fri, 24 Apr 2020 04:34:42 GMT', 'Expires': '-1', 'Cache-Control': 'private, max-age=0', 'Content-Type': 'text/html; charset=ISO-8859-1', 'P3P': 'CP=\"This is not a P3P policy! See g.co/p3phelp for more info.\"', 'Content-Encoding': 'gzip', 'Server': 'gws', 'X-XSS-Protection': '0', 'X-Frame-Options': 'SAMEORIGIN', 'Set-Cookie': '1P_JAR=2020-04-24-04; expires=Sun, 24-May-2020 04:34:42 GMT; path=/; domain=.google.com; Secure, NID=203=ozRuX-DFtcqmLd7gr5OH_r-S6ogLI7uGAzrUuWvEI4SnW2iLu5Iy6FeMr4nN4tJ0zYMvMBwD8EWnY1X8Pc42vEE3-NTvBfj2DpAeA7kHpRdqI_UsN9lZM15MOUi8ku1HVQ77v8BuNNaocVp5ejBMpehUHPKwrNgde_j8JWpM6Bw; expires=Sat, 24-Oct-2020 04:34:42 GMT; path=/; domain=.google.com; HttpOnly', 'Transfer-Encoding': 'chunked'}\n",
      "[<a class=\"gb1\" href=\"https://www.google.com/imghp?hl=en&amp;tab=wi\">Images</a>, <a class=\"gb1\" href=\"https://maps.google.com/maps?hl=en&amp;tab=wl\">Maps</a>, <a class=\"gb1\" href=\"https://play.google.com/?hl=en&amp;tab=w8\">Play</a>, <a class=\"gb1\" href=\"https://www.youtube.com/?gl=US&amp;tab=w1\">YouTube</a>, <a class=\"gb1\" href=\"https://news.google.com/nwshp?hl=en&amp;tab=wn\">News</a>, <a class=\"gb1\" href=\"https://mail.google.com/mail/?tab=wm\">Gmail</a>, <a class=\"gb1\" href=\"https://drive.google.com/?tab=wo\">Drive</a>, <a class=\"gb1\" href=\"https://www.google.com/intl/en/about/products?tab=wh\" style=\"text-decoration:none\"><u>More</u> »</a>, <a class=\"gb4\" href=\"http://www.google.com/history/optout?hl=en\">Web History</a>, <a class=\"gb4\" href=\"/preferences?hl=en\">Settings</a>, <a class=\"gb4\" href=\"https://accounts.google.com/ServiceLogin?hl=en&amp;passive=true&amp;continue=https://www.google.com/\" id=\"gb_70\" target=\"_top\">Sign in</a>, <a href=\"/search?ie=UTF-8&amp;q=coronavirus+tips&amp;oi=ddle&amp;ct=153607509&amp;hl=en&amp;sa=X&amp;ved=0ahUKEwj2u9qSnoDpAhVRI6YKHeGzAYAQPQgD\"><img alt=\"Stay Home. Save Lives : Help Stop Coronavirus\" border=\"0\" height=\"200\" id=\"hplogo\" src=\"/logos/doodles/2020/stay-home-save-lives-april-23-copy-6753651837108787-law.gif\" title=\"Stay Home. Save Lives : Help Stop Coronavirus\" width=\"500\"/><br/></a>, <a href=\"/advanced_search?hl=en&amp;authuser=0\">Advanced search</a>, <a class=\"NKcBbd\" href=\"https://www.google.com/url?q=https://www.google.com/search%3Fq%3Dcoronavirus%2Bprevention&amp;source=hpp&amp;id=19017450&amp;ct=3&amp;usg=AFQjCNHrOea3Nk9UjKsxSwe3Ur1otaiW2Q&amp;sa=X&amp;ved=0ahUKEwj2u9qSnoDpAhVRI6YKHeGzAYAQ8IcBCAU\" rel=\"nofollow\">Stay home. Save lives. Help stop coronavirus</a>, <a href=\"/intl/en/ads/\">Advertising Programs</a>, <a href=\"/services/\">Business Solutions</a>, <a href=\"/intl/en/about.html\">About Google</a>, <a href=\"/intl/en/policies/privacy/\">Privacy</a>, <a href=\"/intl/en/policies/terms/\">Terms</a>]\n",
      "\n",
      "\n",
      "<a href=\"/intl/en/about.html\">About Google</a>\n",
      "/intl/en/about.html\n"
     ]
    }
   ],
   "source": [
    "# YouTube Link:\n",
    "\n",
    "# Ensure that you have both beautifulsoup and requests installed:\n",
    "#   pip install beautifulsoup4\n",
    "#   pip install requests\n",
    "\n",
    "import requests\n",
    "from bs4 import BeautifulSoup\n",
    "\n",
    "# Using the requests module, we use the \"get\" function\n",
    "# provided to access the webpage provided as an\n",
    "# argument to this function:\n",
    "result = requests.get(\"https://www.google.com/\")\n",
    "\n",
    "# To make sure that the website is accessible, we can\n",
    "# ensure that we obtain a 200 OK response to indicate\n",
    "# that the page is indeed present:\n",
    "print(result.status_code)\n",
    "\n",
    "# For other potential status codes you may encounter,\n",
    "# consult the following Wikipedia page:\n",
    "# https://en.wikipedia.org/wiki/List_of_HTTP_status_codes\n",
    "\n",
    "# We can also check the HTTP header of the website to\n",
    "# verify that we have indeed accessed the correct page:\n",
    "print(result.headers)\n",
    "\n",
    "# For more information on HTTP headers and the information\n",
    "# one can obtain from them, you may consult:\n",
    "# https://en.wikipedia.org/wiki/List_of_HTTP_header_fields\n",
    "\n",
    "# Now, let us store the page content of the website accessed\n",
    "# from requests to a variable:\n",
    "src = result.content\n",
    "\n",
    "# Now that we have the page source stored, we will use the\n",
    "# BeautifulSoup module to parse and process the source.\n",
    "# To do so, we create a BeautifulSoup object based on the\n",
    "# source variable we created above:\n",
    "soup = BeautifulSoup(src, 'lxml')\n",
    "\n",
    "# Now that the page source has been processed via Beautifulsoup\n",
    "# we can access specific information directly from it. For instance,\n",
    "# say we want to see a list of all of the links on the page:\n",
    "links = soup.find_all(\"a\")\n",
    "print(links)\n",
    "print(\"\\n\")\n",
    "\n",
    "# Perhaps we just want to extract the link that has contains the text\n",
    "# \"About\" on the page instead of every link. We can use the built-in\n",
    "# \"text\" function to access the text content between the <a> </a>\n",
    "# tags.\n",
    "for link in links:\n",
    "    if \"About\" in link.text:\n",
    "        print(link)\n",
    "        print(link.attrs['href'])"
   ]
  }
 ],
 "metadata": {
  "colab": {
   "name": "Youtube web ",
   "provenance": []
  },
  "kernelspec": {
   "display_name": "Python 3",
   "name": "python3"
  }
 },
 "nbformat": 4,
 "nbformat_minor": 0
}
