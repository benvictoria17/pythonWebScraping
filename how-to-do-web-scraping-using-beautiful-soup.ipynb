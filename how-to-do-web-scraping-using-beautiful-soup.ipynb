{
 "cells": [
  {
   "cell_type": "code",
   "execution_count": 1,
   "metadata": {
    "execution": {
     "iopub.execute_input": "2021-03-18T00:07:50.716107Z",
     "iopub.status.busy": "2021-03-18T00:07:50.715461Z",
     "iopub.status.idle": "2021-03-18T00:08:01.487463Z",
     "shell.execute_reply": "2021-03-18T00:08:01.486488Z"
    },
    "papermill": {
     "duration": 10.783306,
     "end_time": "2021-03-18T00:08:01.487668",
     "exception": false,
     "start_time": "2021-03-18T00:07:50.704362",
     "status": "completed"
    },
    "tags": []
   },
   "outputs": [
    {
     "name": "stdout",
     "output_type": "stream",
     "text": [
      "Collecting bs4\r\n",
      "  Downloading bs4-0.0.1.tar.gz (1.1 kB)\r\n",
      "Collecting beautifulsoup4\r\n",
      "  Downloading beautifulsoup4-4.9.3-py3-none-any.whl (115 kB)\r\n",
      "\u001b[K     |████████████████████████████████| 115 kB 1.2 MB/s \r\n",
      "\u001b[?25hCollecting soupsieve>1.2\r\n",
      "  Downloading soupsieve-2.2-py3-none-any.whl (33 kB)\r\n",
      "Building wheels for collected packages: bs4\r\n",
      "  Building wheel for bs4 (setup.py) ... \u001b[?25l-\b \b\\\b \bdone\r\n",
      "\u001b[?25h  Created wheel for bs4: filename=bs4-0.0.1-py3-none-any.whl size=1273 sha256=91ff7526b00ca6b127d9746d1046855ca78cef87fe6fd7520c9b4639c7f8daa0\r\n",
      "  Stored in directory: /root/.cache/pip/wheels/0a/9e/ba/20e5bbc1afef3a491f0b3bb74d508f99403aabe76eda2167ca\r\n",
      "Successfully built bs4\r\n",
      "Installing collected packages: soupsieve, beautifulsoup4, bs4\r\n",
      "Successfully installed beautifulsoup4-4.9.3 bs4-0.0.1 soupsieve-2.2\r\n"
     ]
    }
   ],
   "source": [
    "!pip install bs4"
   ]
  },
  {
   "cell_type": "code",
   "execution_count": 2,
   "metadata": {
    "execution": {
     "iopub.execute_input": "2021-03-18T00:08:01.511446Z",
     "iopub.status.busy": "2021-03-18T00:08:01.510546Z",
     "iopub.status.idle": "2021-03-18T00:08:01.666670Z",
     "shell.execute_reply": "2021-03-18T00:08:01.667168Z"
    },
    "id": "HA0Aj603o5Lg",
    "papermill": {
     "duration": 0.170011,
     "end_time": "2021-03-18T00:08:01.667353",
     "exception": false,
     "start_time": "2021-03-18T00:08:01.497342",
     "status": "completed"
    },
    "tags": []
   },
   "outputs": [],
   "source": [
    "import requests\n",
    "from bs4 import BeautifulSoup\n",
    "from tqdm import tqdm"
   ]
  },
  {
   "cell_type": "code",
   "execution_count": 3,
   "metadata": {
    "execution": {
     "iopub.execute_input": "2021-03-18T00:08:01.688676Z",
     "iopub.status.busy": "2021-03-18T00:08:01.688080Z",
     "iopub.status.idle": "2021-03-18T00:08:01.692522Z",
     "shell.execute_reply": "2021-03-18T00:08:01.692025Z"
    },
    "id": "Nh5Aj37ho5OZ",
    "papermill": {
     "duration": 0.016069,
     "end_time": "2021-03-18T00:08:01.692657",
     "exception": false,
     "start_time": "2021-03-18T00:08:01.676588",
     "status": "completed"
    },
    "tags": []
   },
   "outputs": [],
   "source": [
    "URL = \"https://www.flipkart.com/boat-rockerz-400-bluetooth-headset/product-reviews/itm14d0416b87d55?pid=ACCEJZXYKSG2T9GS&lid=LSTACCEJZXYKSG2T9GSVY4ZIC&marketplace=FLIPKART&page=1\""
   ]
  },
  {
   "cell_type": "code",
   "execution_count": 4,
   "metadata": {
    "execution": {
     "iopub.execute_input": "2021-03-18T00:08:01.717196Z",
     "iopub.status.busy": "2021-03-18T00:08:01.716572Z",
     "iopub.status.idle": "2021-03-18T00:08:03.001574Z",
     "shell.execute_reply": "2021-03-18T00:08:03.002465Z"
    },
    "id": "P4EQ41ojo5RP",
    "outputId": "e240aebb-bc60-4a53-caf8-622843b7aa2e",
    "papermill": {
     "duration": 1.300841,
     "end_time": "2021-03-18T00:08:03.002701",
     "exception": false,
     "start_time": "2021-03-18T00:08:01.701860",
     "status": "completed"
    },
    "tags": []
   },
   "outputs": [
    {
     "name": "stdout",
     "output_type": "stream",
     "text": [
      "||(t=c,o=n,i=new Date,w(e),s())}function s(){o>=0&&o<i-r&&(c.forEach(function(n){n(o,t)}),c=[])}function l(t){if(t.cancelable){var o=(t.timeStamp>1e12?new Date:performance.now())-t.timeStamp;\"pointerdown\"==t.type?function(t,o){function i(){p(t,o),r()}function c(){r()}function r(){e(a,i,f),e(u,c,f)}n(a,i,f),n(u,c,f)}(o,t):p(o,t)}}function w(n){[\"click\",\"mousedown\",\"keydown\",\"touchstart\",\"pointerdown\"].forEach(function(e){n(e,l,f)})}w(n),self.perfMetrics=self.perfMetrics||{},self.perfMetrics.onFirstInputDelay=function(n){c.push(n),s()}}(addEventListener,removeEventListener);\n",
      "        </script>\n",
      "       </meta>\n",
      "      </meta>\n",
      "     </meta>\n",
      "    </meta>\n",
      "   </meta>\n",
      "  </meta>\n",
      " </head>\n",
      " <body>\n",
      "  <div id=\"container\">\n",
      "   <div data-reactroot=\"\">\n",
      "    <div class=\"_1kfTjk\">\n",
      "     <div class=\"_1rH5Jn\">\n",
      "      <div class=\"_1TmfNK\">\n",
      "      </div>\n",
      "      <div class=\"_2Xfa2_\">\n",
      "       <div class=\"_3_C9Hx\">\n",
      "        <div class=\"_3qX0zy\">\n",
      "         <a href=\"/\">\n",
      "          <img alt=\"Flipkart\" class=\"_2xm1JU\" src=\"//stat\n"
     ]
    }
   ],
   "source": [
    "r = requests.get(URL)    \n",
    "soup = BeautifulSoup(r.content, 'html.parser') \n",
    "print(soup.prettify()[6000:7000])"
   ]
  },
  {
   "cell_type": "code",
   "execution_count": 5,
   "metadata": {
    "execution": {
     "iopub.execute_input": "2021-03-18T00:08:03.026163Z",
     "iopub.status.busy": "2021-03-18T00:08:03.025513Z",
     "iopub.status.idle": "2021-03-18T00:09:07.765593Z",
     "shell.execute_reply": "2021-03-18T00:09:07.765091Z"
    },
    "id": "7olJ45OxpMw9",
    "outputId": "4b39d1cd-d948-4ede-a8fa-dc48c3f340e0",
    "papermill": {
     "duration": 64.752641,
     "end_time": "2021-03-18T00:09:07.765737",
     "exception": false,
     "start_time": "2021-03-18T00:08:03.013096",
     "status": "completed"
    },
    "tags": []
   },
   "outputs": [
    {
     "name": "stderr",
     "output_type": "stream",
     "text": [
      "100%|██████████| 49/49 [01:04<00:00,  1.32s/it]\n"
     ]
    },
    {
     "data": {
      "text/plain": [
       "490"
      ]
     },
     "execution_count": 5,
     "metadata": {},
     "output_type": "execute_result"
    }
   ],
   "source": [
    "dataset = []\n",
    "\n",
    "# iterating over 50 pages of reviews\n",
    "for i in tqdm(range(1,50)):\n",
    "\n",
    "    URL = f\"https://www.flipkart.com/boat-rockerz-400-bluetooth-headset/product-reviews/itm14d0416b87d55?pid=ACCEJZXYKSG2T9GS&lid=LSTACCEJZXYKSG2T9GSVY4ZIC&marketplace=FLIPKART&page={i}\"\n",
    "    r = requests.get(URL)    \n",
    "    soup = BeautifulSoup(r.content, 'html.parser') \n",
    "\n",
    "    cols = soup.find_all('div',attrs={'class':'col _2wzgFH K0kLPL'})\n",
    "\n",
    "    for col in cols:\n",
    "        row = col.find_all('div',attrs={'class':'row'})\n",
    "\n",
    "        rating = row[0].find('div').text\n",
    "        review = row[1].find('div').text\n",
    "\n",
    "        dataset.append({'review': review , 'rating' : rating})\n",
    "len(dataset)"
   ]
  },
  {
   "cell_type": "code",
   "execution_count": 6,
   "metadata": {
    "execution": {
     "iopub.execute_input": "2021-03-18T00:09:07.834842Z",
     "iopub.status.busy": "2021-03-18T00:09:07.823538Z",
     "iopub.status.idle": "2021-03-18T00:09:08.198519Z",
     "shell.execute_reply": "2021-03-18T00:09:08.197817Z"
    },
    "id": "OsrqorT1pMzn",
    "papermill": {
     "duration": 0.40719,
     "end_time": "2021-03-18T00:09:08.198662",
     "exception": false,
     "start_time": "2021-03-18T00:09:07.791472",
     "status": "completed"
    },
    "tags": []
   },
   "outputs": [
    {
     "data": {
      "text/html": [
       "<div>\n",
       "<style scoped>\n",
       "    .dataframe tbody tr th:only-of-type {\n",
       "        vertical-align: middle;\n",
       "    }\n",
       "\n",
       "    .dataframe tbody tr th {\n",
       "        vertical-align: top;\n",
       "    }\n",
       "\n",
       "    .dataframe thead th {\n",
       "        text-align: right;\n",
       "    }\n",
       "</style>\n",
       "<table border=\"1\" class=\"dataframe\">\n",
       "  <thead>\n",
       "    <tr style=\"text-align: right;\">\n",
       "      <th></th>\n",
       "      <th>review</th>\n",
       "      <th>rating</th>\n",
       "    </tr>\n",
       "  </thead>\n",
       "  <tbody>\n",
       "    <tr>\n",
       "      <th>0</th>\n",
       "      <td>It was nice produt. I like it's design a lot. ...</td>\n",
       "      <td>5</td>\n",
       "    </tr>\n",
       "    <tr>\n",
       "      <th>1</th>\n",
       "      <td>awesome sound....very pretty to see this nd th...</td>\n",
       "      <td>5</td>\n",
       "    </tr>\n",
       "    <tr>\n",
       "      <th>2</th>\n",
       "      <td>awesome sound quality. pros 7-8 hrs of battery...</td>\n",
       "      <td>4</td>\n",
       "    </tr>\n",
       "    <tr>\n",
       "      <th>3</th>\n",
       "      <td>I think it is such a good product not only as ...</td>\n",
       "      <td>5</td>\n",
       "    </tr>\n",
       "    <tr>\n",
       "      <th>4</th>\n",
       "      <td>awesome bass sound quality very good bettary l...</td>\n",
       "      <td>5</td>\n",
       "    </tr>\n",
       "  </tbody>\n",
       "</table>\n",
       "</div>"
      ],
      "text/plain": [
       "                                              review  rating\n",
       "0  It was nice produt. I like it's design a lot. ...       5\n",
       "1  awesome sound....very pretty to see this nd th...       5\n",
       "2  awesome sound quality. pros 7-8 hrs of battery...       4\n",
       "3  I think it is such a good product not only as ...       5\n",
       "4  awesome bass sound quality very good bettary l...       5"
      ]
     },
     "execution_count": 6,
     "metadata": {},
     "output_type": "execute_result"
    }
   ],
   "source": [
    "import pandas as pd\n",
    "# pd.DataFrame(dataset).to_csv('data.csv',index=False)\n",
    "data = pd.read_csv('https://raw.githubusercontent.com/benvictoria17/pythonWebScraping/master/dataset/Flipkart%20Customer%20Review%20and%20Rating/data.csv')\n",
    "data.head()"
   ]
  }
 ],
 "metadata": {
  "kernelspec": {
   "display_name": "Python 3",
   "language": "python",
   "name": "python3"
  },
  "language_info": {
   "codemirror_mode": {
    "name": "ipython",
    "version": 3
   },
   "file_extension": ".py",
   "mimetype": "text/x-python",
   "name": "python",
   "nbconvert_exporter": "python",
   "pygments_lexer": "ipython3",
   "version": "3.7.9"
  },
  "papermill": {
   "default_parameters": {},
   "duration": 83.783472,
   "end_time": "2021-03-18T00:09:08.834855",
   "environment_variables": {},
   "exception": null,
   "input_path": "__notebook__.ipynb",
   "output_path": "__notebook__.ipynb",
   "parameters": {},
   "start_time": "2021-03-18T00:07:45.051383",
   "version": "2.2.2"
  }
 },
 "nbformat": 4,
 "nbformat_minor": 4
}
